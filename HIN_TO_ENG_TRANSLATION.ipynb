{
 "cells": [
  {
   "cell_type": "markdown",
   "id": "63305bc1",
   "metadata": {},
   "source": [
    "# DATA"
   ]
  },
  {
   "cell_type": "code",
   "execution_count": 1,
   "id": "4a80f36d",
   "metadata": {},
   "outputs": [],
   "source": [
    "import numpy as np\n",
    "import re\n",
    "import string\n",
    "import unicodedata\n",
    "from unicodedata import normalize\n",
    "import sys\n",
    "import indicnlp\n",
    "import tensorflow as tf\n",
    "from keras.preprocessing.text import Tokenizer\n",
    "from keras.preprocessing.sequence import pad_sequences\n",
    "from numpy import array\n",
    "from numpy import asarray\n",
    "from numpy import zeros\n",
    "from keras.models import Model\n",
    "from keras.layers import Input, LSTM, GRU, Dense, Embedding\n",
    "from tensorflow.keras.utils import plot_model\n",
    "import numpy as np"
   ]
  },
  {
   "cell_type": "code",
   "execution_count": 2,
   "id": "d33e1ca4",
   "metadata": {},
   "outputs": [],
   "source": [
    "def load_doc(filename):\n",
    "    file = open('ENG_HIN_SMALL_DATASET.txt' , mode ='rt' , encoding = 'utf-8')\n",
    "    text = file.read()\n",
    "    file.close()\n",
    "    return text"
   ]
  },
  {
   "cell_type": "code",
   "execution_count": 3,
   "id": "1a92a6a2",
   "metadata": {},
   "outputs": [],
   "source": [
    "def to_pairs(text):\n",
    "    lines = text.strip().split('\\n') #1d list of strings\n",
    "    eng_hin_pairs = [line.split('\\t') for line in lines] #list\n",
    "    eng_hin_pairs = np.delete(eng_hin_pairs , -1 , axis = 1)\n",
    "    eng_hin_pairs = eng_hin_pairs.tolist()\n",
    "    return eng_hin_pairs    "
   ]
  },
  {
   "cell_type": "code",
   "execution_count": 4,
   "id": "a7cf6fec",
   "metadata": {},
   "outputs": [],
   "source": [
    "doc = load_doc('ENG_HIN_SMALL_DATASET.txt')\n",
    "hin_eng_pairs = to_pairs(doc)\n",
    "english_sentences = []\n",
    "hindi_sentences = []\n",
    "for i in range(len(hin_eng_pairs)):\n",
    "    english_sentences.append(hin_eng_pairs[i][0])\n",
    "    hindi_sentences.append(hin_eng_pairs[i][1])"
   ]
  },
  {
   "cell_type": "markdown",
   "id": "8598fb62",
   "metadata": {},
   "source": [
    "### Cleaning english data"
   ]
  },
  {
   "cell_type": "code",
   "execution_count": 5,
   "id": "2d6235f1",
   "metadata": {},
   "outputs": [],
   "source": [
    "def clean_english_data(lines):\n",
    "    re_print = re.compile('[^%s]' %re.escape(string.printable))\n",
    "    table = str.maketrans('' , '' , string.punctuation)\n",
    "    clean_eng_lines = []\n",
    "    for line in lines:\n",
    "        line = normalize('NFD' , line).encode('ascii' , 'ignore')\n",
    "        line = line.decode('UTF-8')\n",
    "        line = line.split()\n",
    "        line = [word.lower() for word in line]\n",
    "        line = [word.translate(table) for word in line]\n",
    "        line = [re_print.sub('' , w) for w in line]\n",
    "        line = [word for word in line if word.isalpha()]\n",
    "        line = ' '.join(line)\n",
    "        clean_eng_lines.append(line)\n",
    "    return clean_eng_lines   "
   ]
  },
  {
   "cell_type": "code",
   "execution_count": 6,
   "id": "d80f3ea7",
   "metadata": {},
   "outputs": [
    {
     "name": "stdout",
     "output_type": "stream",
     "text": [
      "<class 'list'>\n",
      "['Wow!', 'Help!', 'Jump.', 'Jump.', 'Jump.', 'Hello!', 'Hello!', 'Cheers!', 'Cheers!', 'Got it?']\n",
      "['wow', 'help', 'jump', 'jump', 'jump', 'hello', 'hello', 'cheers', 'cheers', 'got it']\n"
     ]
    }
   ],
   "source": [
    "clean_eng_lines = clean_english_data(english_sentences)\n",
    "print(type(clean_eng_lines))\n",
    "print(english_sentences[0:10])\n",
    "print(clean_eng_lines[0:10])"
   ]
  },
  {
   "cell_type": "markdown",
   "id": "296c25c9",
   "metadata": {},
   "source": [
    "### Clean hindi data"
   ]
  },
  {
   "cell_type": "markdown",
   "id": "1b62fcdf",
   "metadata": {},
   "source": [
    "###### SETTING UP PATHS FOR INDIC NLP"
   ]
  },
  {
   "cell_type": "code",
   "execution_count": 7,
   "id": "b4a05ebe",
   "metadata": {},
   "outputs": [],
   "source": [
    "INDIC_NLP_LIB_HOME=r\"C:\\Users\\sudha\\Desktop\\NMT_PROJECTS\\Language_Translation_Chat_Bot\\anoopkunchukuttan-indic_nlp_library-eccde81\"\n",
    "INDIC_NLP_RESOURCES=r\"C:\\Users\\sudha\\Desktop\\NMT_PROJECTS\\Language_Translation_Chat_Bot\\indic_nlp_resources-master\"\n",
    "sys.path.append(r'{}'.format(INDIC_NLP_LIB_HOME))\n",
    "from indicnlp import common\n",
    "common.set_resources_path(INDIC_NLP_RESOURCES)\n",
    "from indicnlp import loader\n",
    "loader.load()\n",
    "from indicnlp.normalize.indic_normalize import IndicNormalizerFactory\n",
    "from indicnlp.tokenize import indic_tokenize"
   ]
  },
  {
   "cell_type": "code",
   "execution_count": 8,
   "id": "0aa7ebd8",
   "metadata": {},
   "outputs": [],
   "source": [
    "def clean_text(line):\n",
    "    text = line\n",
    "    text = text.replace(u',' ,'')\n",
    "    text = text.replace(u'\"' ,'')\n",
    "    text = text.replace(u'(' ,'')\n",
    "    text = text.replace(u')' ,'')\n",
    "    text = text.replace(u'\"' ,'')\n",
    "    text = text.replace(u':' ,'')\n",
    "    text = text.replace(u\"'\" ,'')\n",
    "    text = text.replace(u\"'\" ,'')\n",
    "    text=text.replace(u\"‘‘\",'')\n",
    "    text=text.replace(u\"’’\",'')\n",
    "    text=text.replace(u\"''\",'')\n",
    "    text=text.replace(u\".\",'')\n",
    "    text=text.replace(u\"-\",'')\n",
    "    text=text.replace(u\"।\",'')\n",
    "    text=text.replace(u\"?\",'')\n",
    "    text=text.replace(u\"\\\\\",'')\n",
    "    text=text.replace(u\"_\",'')\n",
    "    text = re.sub('[a-zA-Z]' , '' , text)\n",
    "    text = re.sub('[0-9+\\-*/.%&!]' , '' , text)\n",
    "    return text"
   ]
  },
  {
   "cell_type": "code",
   "execution_count": 9,
   "id": "4128f327",
   "metadata": {},
   "outputs": [],
   "source": [
    "def clean_hindi_data(lines):\n",
    "    clean_hin_lines = []\n",
    "    for line in lines:\n",
    "        remove_nuktas = False\n",
    "        factory = IndicNormalizerFactory()\n",
    "        normalizer = factory.get_normalizer(\"hi\" , remove_nuktas = False )\n",
    "        line = clean_text(line)\n",
    "        tokens = list()\n",
    "        for t in indic_tokenize.trivial_tokenize(line):\n",
    "            tokens.append(t)\n",
    "        line = tokens\n",
    "        line = [ word.lower() for word in line]\n",
    "        line = [word for word in line if not re.search(r'\\d', word)]\n",
    "        line = ' '.join(line)\n",
    "        clean_hin_lines.append(line)\n",
    "    return clean_hin_lines    "
   ]
  },
  {
   "cell_type": "code",
   "execution_count": 10,
   "id": "bbaa487a",
   "metadata": {},
   "outputs": [
    {
     "name": "stdout",
     "output_type": "stream",
     "text": [
      "इसे दोबारा पढ़ें।\n",
      "इसे दोबारा पढ़ें\n"
     ]
    }
   ],
   "source": [
    "clean_hindi_lines = clean_hindi_data(hindi_sentences)\n",
    "print(hindi_sentences[133])\n",
    "print(clean_hindi_lines[133])"
   ]
  },
  {
   "cell_type": "markdown",
   "id": "a17a2a0e",
   "metadata": {},
   "source": [
    "### Adding SOS and EOS ,  PREPARING INPUTS FOR ENCODER AND DECODER"
   ]
  },
  {
   "cell_type": "code",
   "execution_count": 11,
   "id": "ae5007f8",
   "metadata": {},
   "outputs": [],
   "source": [
    "num_sentences = 2200 #(about 80-20 ratio)"
   ]
  },
  {
   "cell_type": "code",
   "execution_count": 12,
   "id": "d4905d29",
   "metadata": {},
   "outputs": [],
   "source": [
    "input_sentences = []\n",
    "output_sentences = []\n",
    "output_sentences_inputs = []"
   ]
  },
  {
   "cell_type": "code",
   "execution_count": 13,
   "id": "1ad940c2",
   "metadata": {},
   "outputs": [],
   "source": [
    "#input sentences\n",
    "input_sentences = clean_hindi_lines[0:num_sentences]\n",
    "\n",
    "#output sentences\n",
    "for line in clean_eng_lines[0:num_sentences]:\n",
    "    line = line + ' <eos>'\n",
    "    output_sentences.append(line)\n",
    "\n",
    "#output sentence input\n",
    "\n",
    "for line in clean_eng_lines[0:num_sentences]:\n",
    "    line = '<sos> ' + line\n",
    "    output_sentences_inputs.append(line)"
   ]
  },
  {
   "cell_type": "code",
   "execution_count": 14,
   "id": "cb96624e",
   "metadata": {},
   "outputs": [
    {
     "data": {
      "text/plain": [
       "['<sos> wow',\n",
       " '<sos> help',\n",
       " '<sos> jump',\n",
       " '<sos> jump',\n",
       " '<sos> jump',\n",
       " '<sos> hello',\n",
       " '<sos> hello',\n",
       " '<sos> cheers',\n",
       " '<sos> cheers',\n",
       " '<sos> got it']"
      ]
     },
     "execution_count": 14,
     "metadata": {},
     "output_type": "execute_result"
    }
   ],
   "source": [
    "output_sentences_inputs[0:10]"
   ]
  },
  {
   "cell_type": "code",
   "execution_count": 15,
   "id": "11ed7862",
   "metadata": {},
   "outputs": [
    {
     "name": "stdout",
     "output_type": "stream",
     "text": [
      "num samples input: 2200\n",
      "num samples output: 2200\n",
      "num samples output input: 2200\n"
     ]
    }
   ],
   "source": [
    "print(\"num samples input:\", len(input_sentences))\n",
    "print(\"num samples output:\", len(output_sentences))\n",
    "print(\"num samples output input:\", len(output_sentences_inputs))"
   ]
  },
  {
   "cell_type": "markdown",
   "id": "652f712c",
   "metadata": {},
   "source": [
    "#### Tokenizing and padding  english and hindi"
   ]
  },
  {
   "cell_type": "code",
   "execution_count": 16,
   "id": "cf104a16",
   "metadata": {},
   "outputs": [],
   "source": [
    "BATCH_SIZE = 64\n",
    "EPOCHS = 20\n",
    "LSTM_NODES =256\n",
    "NUM_SENTENCES = 20000\n",
    "MAX_SENTENCE_LENGTH = 50\n",
    "MAX_NUM_WORDS = 20000\n",
    "EMBEDDING_SIZE = 100"
   ]
  },
  {
   "cell_type": "code",
   "execution_count": 17,
   "id": "dd9eaef6",
   "metadata": {},
   "outputs": [],
   "source": [
    "# for vocabulary"
   ]
  },
  {
   "cell_type": "code",
   "execution_count": 18,
   "id": "3fe6b76c",
   "metadata": {},
   "outputs": [],
   "source": [
    "class LanguageIndex():\n",
    "  def __init__(self, lang):\n",
    "    self.lang = lang\n",
    "    self.word2idx = {}\n",
    "    self.idx2word = {}\n",
    "    self.vocab = set()\n",
    "    \n",
    "    self.create_index()\n",
    "    \n",
    "  def create_index(self):\n",
    "    for phrase in self.lang:\n",
    "      self.vocab.update(phrase.split(' '))\n",
    "    \n",
    "    self.vocab = sorted(self.vocab)\n",
    "    \n",
    "    self.word2idx['<sos>'] = 0\n",
    "#     self.word2idx['<eos>'] = 1\n",
    "    \n",
    "    for index, word in enumerate(self.vocab):\n",
    "      self.word2idx[word] = index + 1\n",
    "    \n",
    "    for word, index in self.word2idx.items():\n",
    "      self.idx2word[index] = word\n"
   ]
  },
  {
   "cell_type": "code",
   "execution_count": 19,
   "id": "d8592191",
   "metadata": {},
   "outputs": [],
   "source": [
    "pairs = []\n",
    "for i in range(len(input_sentences)):\n",
    "    pairs.append([])\n",
    "    pairs[i].append(input_sentences[i])\n",
    "    pairs[i].append(output_sentences_inputs[i])\n",
    "    pairs[i].append(output_sentences[i])\n",
    "\n"
   ]
  },
  {
   "cell_type": "code",
   "execution_count": 20,
   "id": "120b2bb1",
   "metadata": {},
   "outputs": [
    {
     "data": {
      "text/plain": [
       "['<sos> wow',\n",
       " '<sos> help',\n",
       " '<sos> jump',\n",
       " '<sos> jump',\n",
       " '<sos> jump',\n",
       " '<sos> hello',\n",
       " '<sos> hello',\n",
       " '<sos> cheers',\n",
       " '<sos> cheers',\n",
       " '<sos> got it']"
      ]
     },
     "execution_count": 20,
     "metadata": {},
     "output_type": "execute_result"
    }
   ],
   "source": [
    "output_sentences_inputs[0:10]"
   ]
  },
  {
   "cell_type": "code",
   "execution_count": 24,
   "id": "448fd2fb",
   "metadata": {},
   "outputs": [],
   "source": [
    "def max_length(tensor):\n",
    "    return max(len(t) for t in tensor)\n",
    "\n",
    "def load_dataset(pairs):  \n",
    "    inp_lang = LanguageIndex(hi for hi, en, en2 in pairs)\n",
    "    targ_lang_decoder_input = LanguageIndex(en for hi, en, en2 in pairs)\n",
    "#   targ_lang_decoder_output: english sentences with <eos>\n",
    "    targ_lang_decoder_output = LanguageIndex(en2 for hi, en, en2 in pairs)\n",
    "    input_tensor = [[inp_lang.word2idx[s] for s in hi.split(' ')] for hi, en, en2 in pairs]\n",
    "    target_tensor = [[targ_lang_decoder_input.word2idx[s] for s in en.split(' ')] for hi, en, en2 in pairs]\n",
    "    target_tensor_decoder_output = [[targ_lang_decoder_output.word2idx[s] for s in en2.split(' ')] for hi, en, en2 in pairs]\n",
    "    max_length_inp, max_length_targ, max_length_target_decoder_output = max_length(input_tensor), max_length(target_tensor) , max_length(target_tensor_decoder_output)\n",
    "    input_lang_vocab = inp_lang.vocab\n",
    "    return inp_lang, targ_lang_decoder_input, targ_lang_decoder_output, max_length_inp, max_length_targ,max_length_target_decoder_output, input_tensor, target_tensor, target_tensor_decoder_output, input_lang_vocab\n",
    "\n",
    "\n",
    "\n",
    "\n",
    "\n",
    "\n",
    "# def load_dataset(pairs):  \n",
    "#     inp_lang = LanguageIndex(en for en, hi, hi2 in pairs)\n",
    "#     targ_lang_decoder_input = LanguageIndex(hi for en, hi, hi2 in pairs)\n",
    "# #   targ_lang_decoder_output: hindi sentences with <eos>\n",
    "#     targ_lang_decoder_output = LanguageIndex(hi2 for en, hi, hi2 in pairs)\n",
    "#     input_tensor = [[inp_lang.word2idx[s] for s in en.split(' ')] for en, hi, hi2 in pairs]\n",
    "#     target_tensor = [[targ_lang_decoder_input.word2idx[s] for s in hi.split(' ')] for en, hi, hi2 in pairs]\n",
    "#     target_tensor_decoder_output = [[targ_lang_decoder_output.word2idx[s] for s in hi2.split(' ')] for en, hi, hi2 in pairs]\n",
    "#     max_length_inp, max_length_targ, max_length_target_decoder_output = max_length(input_tensor), max_length(target_tensor) , max_length(target_tensor_decoder_output)\n",
    "#     input_lang_vocab = inp_lang.vocab\n",
    "#     return inp_lang, targ_lang_decoder_input, targ_lang_decoder_output, max_length_inp, max_length_targ,max_length_target_decoder_output, input_tensor, target_tensor, target_tensor_decoder_output, input_lang_vocab\n",
    "\n",
    "\n"
   ]
  },
  {
   "cell_type": "code",
   "execution_count": 25,
   "id": "28c26a87",
   "metadata": {},
   "outputs": [
    {
     "name": "stdout",
     "output_type": "stream",
     "text": [
      "1\n"
     ]
    },
    {
     "data": {
      "text/plain": [
       "list"
      ]
     },
     "execution_count": 25,
     "metadata": {},
     "output_type": "execute_result"
    }
   ],
   "source": [
    "inp_lang, targ_lang_decoder_input, targ_lang_decoder_output, max_length_inp, max_length_targ ,max_length_target_decoder_output, input_tensor , target_tensor,target_tensor_decoder_output, input_lang_vocab = load_dataset(pairs)\n",
    "# print(targ_lang_decoder_output.word2idx)\n",
    "print(targ_lang_decoder_input.word2idx['<sos>'])\n",
    "input_lang_word2idx = inp_lang.word2idx\n",
    "word2idx_outputs = targ_lang_decoder_input.word2idx\n",
    "num_words_output = len(word2idx_outputs) + 1\n",
    "type(target_tensor)"
   ]
  },
  {
   "cell_type": "code",
   "execution_count": 26,
   "id": "43840fc0",
   "metadata": {},
   "outputs": [],
   "source": [
    "# padding"
   ]
  },
  {
   "cell_type": "code",
   "execution_count": 27,
   "id": "562efd34",
   "metadata": {},
   "outputs": [],
   "source": [
    "def padded_tensor(max_length_inp, max_length_targ, input_tensor , target_tensor, target_tensor_decoder_output):\n",
    "    \n",
    "    input_tensor = tf.keras.preprocessing.sequence.pad_sequences(input_tensor, maxlen=max_length_inp, padding='pre')\n",
    "    target_tensor = tf.keras.preprocessing.sequence.pad_sequences(target_tensor, maxlen=max_length_targ, padding='post')\n",
    "    encoder_input_sequences = pad_sequences(input_tensor, maxlen=max_length_inp,padding='pre')\n",
    "    decoder_input_sequences = pad_sequences(target_tensor, maxlen=max_length_targ, padding='post')\n",
    "    target_tensor_decoder_output = pad_sequences(target_tensor_decoder_output, maxlen=max_length_target_decoder_output, padding='post')\n",
    "    return input_tensor, target_tensor, target_tensor_decoder_output, encoder_input_sequences , decoder_input_sequences\n"
   ]
  },
  {
   "cell_type": "code",
   "execution_count": 28,
   "id": "ef620c81",
   "metadata": {},
   "outputs": [],
   "source": [
    "input_tensor_train, target_tensor_train,target_tensor_decoder_output_train, encoder_input_sequences , decoder_input_sequences = padded_tensor(max_length_inp, max_length_targ, input_tensor , target_tensor, target_tensor_decoder_output)"
   ]
  },
  {
   "cell_type": "code",
   "execution_count": 29,
   "id": "5eafc8d2",
   "metadata": {},
   "outputs": [
    {
     "data": {
      "text/plain": [
       "array([[   0,    0,    0, ...,    0,    0, 1928],\n",
       "       [   0,    0,    0, ...,    0,    0, 1393],\n",
       "       [   0,    0,    0, ...,    0,    0,  182],\n",
       "       ...,\n",
       "       [   0,    0,    0, ..., 1270,  314, 2241],\n",
       "       [   0,    0,    0, ..., 1737, 1560,  395],\n",
       "       [   0,    0,    0, ..., 1470,   26, 2234]])"
      ]
     },
     "execution_count": 29,
     "metadata": {},
     "output_type": "execute_result"
    }
   ],
   "source": [
    "input_tensor_train"
   ]
  },
  {
   "cell_type": "code",
   "execution_count": 30,
   "id": "de3179d8",
   "metadata": {},
   "outputs": [
    {
     "data": {
      "text/plain": [
       "array([[   1, 1823,    0, ...,    0,    0,    0],\n",
       "       [   1,  751,    0, ...,    0,    0,    0],\n",
       "       [   1,  852,    0, ...,    0,    0,    0],\n",
       "       ...,\n",
       "       [   1, 1836, 1032, ...,  321,    0,    0],\n",
       "       [   1, 1846,  689, ...,    2, 1607,    0],\n",
       "       [   1, 1841,  537, ...,    0,    0,    0]])"
      ]
     },
     "execution_count": 30,
     "metadata": {},
     "output_type": "execute_result"
    }
   ],
   "source": [
    "target_tensor_train"
   ]
  },
  {
   "cell_type": "markdown",
   "id": "4d58b2a3",
   "metadata": {},
   "source": [
    "### word embeddings"
   ]
  },
  {
   "cell_type": "code",
   "execution_count": 31,
   "id": "3598187a",
   "metadata": {},
   "outputs": [],
   "source": [
    "embeddings_dictionary = dict()\n",
    "glove_file = open('hi-d100-glove.txt' ,  encoding = 'UTF-8', errors='ignore')\n",
    "for line in glove_file:\n",
    "    records = line.split()\n",
    "    word = records[0]\n",
    "    vector_dimensions = asarray(records[1:] , dtype='float32')\n",
    "    embeddings_dictionary[word] = vector_dimensions\n",
    "\n",
    "glove_file.close()"
   ]
  },
  {
   "cell_type": "code",
   "execution_count": 32,
   "id": "ace71e66",
   "metadata": {},
   "outputs": [
    {
     "name": "stdout",
     "output_type": "stream",
     "text": [
      "1732951\n"
     ]
    }
   ],
   "source": [
    "print(len(embeddings_dictionary))"
   ]
  },
  {
   "cell_type": "code",
   "execution_count": 33,
   "id": "f4d4dae3",
   "metadata": {},
   "outputs": [],
   "source": [
    "num_words = min(MAX_NUM_WORDS, len(input_lang_vocab) + 1)\n",
    "embedding_matrix = zeros((len(input_lang_vocab)+1, 100))\n",
    "for word, index in input_lang_word2idx.items(): #input_lang_word2idx=1847\n",
    "    embedding_vector = embeddings_dictionary.get(word)\n",
    "    if embedding_vector is not None:\n",
    "        embedding_matrix[index] = embedding_vector"
   ]
  },
  {
   "cell_type": "code",
   "execution_count": 34,
   "id": "02a6b352",
   "metadata": {},
   "outputs": [
    {
     "name": "stdout",
     "output_type": "stream",
     "text": [
      "[-0.94261402 -1.14529896  0.58091199 -0.72185099  0.62087101 -0.47525001\n",
      "  0.51365501  0.47668201  0.225485   -0.017625    0.28595901  1.79291606\n",
      " -0.171185    0.76455897  0.140535   -0.75627202 -0.04815    -0.104546\n",
      "  0.178875    0.506127    0.18240701  0.25192699 -0.25036901  0.33397901\n",
      "  1.26716995 -0.130303   -0.17484599  2.49108696 -0.51533902 -0.082741\n",
      "  0.98537701 -0.17586599  0.16473401 -0.65151    -0.013117    1.40071905\n",
      "  0.002845   -0.41820499  0.204423   -1.18822598  0.201193    0.81549698\n",
      "  0.21555001 -0.71363002 -0.885593    1.21263504  0.194709    1.21882796\n",
      " -0.20896401  0.53817397  0.371167   -0.090631   -0.74062598 -0.414121\n",
      "  1.06668401  0.34387201  0.360897   -0.24086     0.27699399 -0.54655403\n",
      " -0.458722    0.110943   -0.91424799 -0.171417   -0.062431   -0.75383103\n",
      "  0.94745702  0.31282401 -0.94324899 -0.066088   -0.29379499 -0.74771798\n",
      " -0.032092    1.12681103 -0.067055   -0.47093299 -0.25645     0.382983\n",
      " -0.24487799 -0.66938502  0.38157299 -0.18887199  0.396736   -0.59090197\n",
      "  0.25862899  0.182533   -0.43425399 -0.42091399 -0.55961502  0.194603\n",
      "  0.076982   -0.51078701 -0.171946    0.79525399 -0.311358    0.252729\n",
      "  0.73454899 -0.160704    0.74574101 -0.085829  ]\n"
     ]
    }
   ],
   "source": [
    "print(embedding_matrix[539])"
   ]
  },
  {
   "cell_type": "code",
   "execution_count": 35,
   "id": "538a324f",
   "metadata": {},
   "outputs": [
    {
     "name": "stdout",
     "output_type": "stream",
     "text": [
      "2255\n"
     ]
    }
   ],
   "source": [
    "print(len(embedding_matrix))"
   ]
  },
  {
   "cell_type": "code",
   "execution_count": 36,
   "id": "45bd4c4f",
   "metadata": {},
   "outputs": [],
   "source": [
    "embedding_layer = Embedding(num_words , EMBEDDING_SIZE , weights = [embedding_matrix] , input_length = max_length_inp)"
   ]
  },
  {
   "cell_type": "markdown",
   "id": "7f9ed451",
   "metadata": {},
   "source": [
    "# MODEL"
   ]
  },
  {
   "cell_type": "markdown",
   "id": "8bf92878",
   "metadata": {},
   "source": [
    "## CREATING THE MODEL"
   ]
  },
  {
   "cell_type": "code",
   "execution_count": 37,
   "id": "75b45a57",
   "metadata": {},
   "outputs": [],
   "source": [
    "decoder_targets_one_hot = np.zeros((len(input_sentences) , max_length_targ , num_words_output), dtype = 'float32')"
   ]
  },
  {
   "cell_type": "code",
   "execution_count": 38,
   "id": "824a059f",
   "metadata": {},
   "outputs": [
    {
     "data": {
      "text/plain": [
       "(2200, 11, 1848)"
      ]
     },
     "execution_count": 38,
     "metadata": {},
     "output_type": "execute_result"
    }
   ],
   "source": [
    "decoder_targets_one_hot.shape"
   ]
  },
  {
   "cell_type": "code",
   "execution_count": 39,
   "id": "4b6e19a4",
   "metadata": {},
   "outputs": [
    {
     "data": {
      "text/plain": [
       "numpy.ndarray"
      ]
     },
     "execution_count": 39,
     "metadata": {},
     "output_type": "execute_result"
    }
   ],
   "source": [
    "type(decoder_targets_one_hot)"
   ]
  },
  {
   "cell_type": "code",
   "execution_count": 40,
   "id": "ad46a0d4",
   "metadata": {},
   "outputs": [],
   "source": [
    "for i, d in enumerate(target_tensor_decoder_output_train):\n",
    "    for t, word in enumerate(d):\n",
    "        decoder_targets_one_hot[i, t, word] = 1"
   ]
  },
  {
   "cell_type": "code",
   "execution_count": 41,
   "id": "f3365e97",
   "metadata": {},
   "outputs": [
    {
     "name": "stdout",
     "output_type": "stream",
     "text": [
      "[[0. 0. 0. ... 0. 0. 0.]\n",
      " [0. 1. 0. ... 0. 0. 0.]\n",
      " [1. 0. 0. ... 0. 0. 0.]\n",
      " ...\n",
      " [1. 0. 0. ... 0. 0. 0.]\n",
      " [1. 0. 0. ... 0. 0. 0.]\n",
      " [1. 0. 0. ... 0. 0. 0.]]\n"
     ]
    }
   ],
   "source": [
    "print(decoder_targets_one_hot[0])"
   ]
  },
  {
   "cell_type": "markdown",
   "id": "b9b53961",
   "metadata": {},
   "source": [
    "## create the encoder and decoders"
   ]
  },
  {
   "cell_type": "code",
   "execution_count": 42,
   "id": "f44c31ac",
   "metadata": {},
   "outputs": [],
   "source": [
    "encoder_inputs_placeholder = Input(shape = (max_length_inp,))\n",
    "x = embedding_layer(encoder_inputs_placeholder)\n",
    "encoder = LSTM(LSTM_NODES, return_state = True)\n",
    "encoder_outputs, h ,c = encoder(x)\n",
    "encoder_states = [h,c]"
   ]
  },
  {
   "cell_type": "code",
   "execution_count": 43,
   "id": "2f420c01",
   "metadata": {},
   "outputs": [],
   "source": [
    "decoder_inputs_placeholder = Input(shape= (max_length_targ,))\n",
    "\n",
    "decoder_embedding = Embedding(num_words_output , LSTM_NODES)\n",
    "decoder_inputs_x = decoder_embedding(decoder_inputs_placeholder)\n",
    "decoder_lstm = LSTM(LSTM_NODES , return_sequences = True , return_state = True)\n",
    "\n",
    "decoder_outputs , _ , _ = decoder_lstm(decoder_inputs_x , initial_state = encoder_states)\n"
   ]
  },
  {
   "cell_type": "code",
   "execution_count": 44,
   "id": "7bcedf09",
   "metadata": {},
   "outputs": [],
   "source": [
    "decoder_dense= Dense(num_words_output , activation = 'softmax')\n",
    "decoder_outputs = decoder_dense(decoder_outputs)\n"
   ]
  },
  {
   "cell_type": "markdown",
   "id": "4d6ed433",
   "metadata": {},
   "source": [
    "## compile the model:"
   ]
  },
  {
   "cell_type": "code",
   "execution_count": 45,
   "id": "3964dc29",
   "metadata": {},
   "outputs": [],
   "source": [
    "model = Model([encoder_inputs_placeholder, decoder_inputs_placeholder] , decoder_outputs)\n",
    "\n",
    "model.compile(optimizer = 'rmsprop' , loss = 'categorical_crossentropy' , metrics = ['accuracy'])\n"
   ]
  },
  {
   "cell_type": "markdown",
   "id": "98f1d5e8",
   "metadata": {},
   "source": [
    "## plotting the model"
   ]
  },
  {
   "cell_type": "code",
   "execution_count": 46,
   "id": "1445d39c",
   "metadata": {},
   "outputs": [
    {
     "data": {
      "image/png": "[encoded data removed]",
      "text/plain": [
       "<IPython.core.display.Image object>"
      ]
     },
     "execution_count": 46,
     "metadata": {},
     "output_type": "execute_result"
    }
   ],
   "source": [
    "plot_model(model, to_file='model_plot4a.png', show_shapes=True, show_layer_names=True)"
   ]
  },
  {
   "cell_type": "markdown",
   "id": "61177709",
   "metadata": {},
   "source": [
    "## fitting the model"
   ]
  },
  {
   "cell_type": "code",
   "execution_count": 47,
   "id": "73896757",
   "metadata": {},
   "outputs": [
    {
     "name": "stdout",
     "output_type": "stream",
     "text": [
      "Epoch 1/20\n",
      "31/31 [==============================] - 4s 29ms/step - loss: 3.7145 - accuracy: 0.4551 - val_loss: 4.5642 - val_accuracy: 0.2901\n",
      "Epoch 2/20\n",
      "31/31 [==============================] - 0s 14ms/step - loss: 2.9603 - accuracy: 0.5357 - val_loss: 4.5233 - val_accuracy: 0.3479\n",
      "Epoch 3/20\n",
      "31/31 [==============================] - 0s 14ms/step - loss: 2.7959 - accuracy: 0.5674 - val_loss: 4.3485 - val_accuracy: 0.3537\n",
      "Epoch 4/20\n",
      "31/31 [==============================] - 0s 14ms/step - loss: 2.6659 - accuracy: 0.5749 - val_loss: 4.4594 - val_accuracy: 0.3599\n",
      "Epoch 5/20\n",
      "31/31 [==============================] - 0s 14ms/step - loss: 2.5458 - accuracy: 0.5837 - val_loss: 4.3791 - val_accuracy: 0.3777\n",
      "Epoch 6/20\n",
      "31/31 [==============================] - 0s 14ms/step - loss: 2.4383 - accuracy: 0.5920 - val_loss: 4.4658 - val_accuracy: 0.3806\n",
      "Epoch 7/20\n",
      "31/31 [==============================] - 0s 14ms/step - loss: 2.3368 - accuracy: 0.5993 - val_loss: 4.2664 - val_accuracy: 0.3905\n",
      "Epoch 8/20\n",
      "31/31 [==============================] - 0s 14ms/step - loss: 2.2390 - accuracy: 0.6082 - val_loss: 4.3214 - val_accuracy: 0.3901\n",
      "Epoch 9/20\n",
      "31/31 [==============================] - 0s 14ms/step - loss: 2.1384 - accuracy: 0.6175 - val_loss: 4.2649 - val_accuracy: 0.4017\n",
      "Epoch 10/20\n",
      "31/31 [==============================] - 0s 14ms/step - loss: 2.0473 - accuracy: 0.6263 - val_loss: 4.2898 - val_accuracy: 0.4000\n",
      "Epoch 11/20\n",
      "31/31 [==============================] - 0s 14ms/step - loss: 1.9556 - accuracy: 0.6332 - val_loss: 4.2747 - val_accuracy: 0.4062\n",
      "Epoch 12/20\n",
      "31/31 [==============================] - 0s 14ms/step - loss: 1.8673 - accuracy: 0.6427 - val_loss: 4.2376 - val_accuracy: 0.4132\n",
      "Epoch 13/20\n",
      "31/31 [==============================] - 0s 14ms/step - loss: 1.7800 - accuracy: 0.6521 - val_loss: 4.2002 - val_accuracy: 0.4128\n",
      "Epoch 14/20\n",
      "31/31 [==============================] - 0s 14ms/step - loss: 1.6918 - accuracy: 0.6650 - val_loss: 4.2307 - val_accuracy: 0.4136\n",
      "Epoch 15/20\n",
      "31/31 [==============================] - 0s 14ms/step - loss: 1.6057 - accuracy: 0.6759 - val_loss: 4.2069 - val_accuracy: 0.4174\n",
      "Epoch 16/20\n",
      "31/31 [==============================] - 0s 14ms/step - loss: 1.5189 - accuracy: 0.6877 - val_loss: 4.2480 - val_accuracy: 0.4190\n",
      "Epoch 17/20\n",
      "31/31 [==============================] - 0s 14ms/step - loss: 1.4379 - accuracy: 0.7017 - val_loss: 4.1552 - val_accuracy: 0.4231\n",
      "Epoch 18/20\n",
      "31/31 [==============================] - 0s 14ms/step - loss: 1.3579 - accuracy: 0.7129 - val_loss: 4.1646 - val_accuracy: 0.4302\n",
      "Epoch 19/20\n",
      "31/31 [==============================] - 0s 14ms/step - loss: 1.2784 - accuracy: 0.7276 - val_loss: 4.2452 - val_accuracy: 0.4227\n",
      "Epoch 20/20\n",
      "31/31 [==============================] - 0s 14ms/step - loss: 1.1954 - accuracy: 0.7432 - val_loss: 4.2071 - val_accuracy: 0.4227\n"
     ]
    }
   ],
   "source": [
    "r = model.fit(\n",
    "    [encoder_input_sequences, decoder_input_sequences],\n",
    "    decoder_targets_one_hot,\n",
    "    batch_size=BATCH_SIZE,\n",
    "    epochs=EPOCHS,\n",
    "    validation_split=0.1,\n",
    ")"
   ]
  },
  {
   "cell_type": "code",
   "execution_count": null,
   "id": "d32ddae8",
   "metadata": {},
   "outputs": [],
   "source": []
  },
  {
   "cell_type": "code",
   "execution_count": null,
   "id": "04b87b7d",
   "metadata": {},
   "outputs": [],
   "source": []
  },
  {
   "cell_type": "code",
   "execution_count": null,
   "id": "a1805ff5",
   "metadata": {},
   "outputs": [],
   "source": []
  }
 ],
 "metadata": {
  "kernelspec": {
   "display_name": "tf2.6.0",
   "language": "python",
   "name": "tf2.6.0"
  },
  "language_info": {
   "codemirror_mode": {
    "name": "ipython",
    "version": 3
   },
   "file_extension": ".py",
   "mimetype": "text/x-python",
   "name": "python",
   "nbconvert_exporter": "python",
   "pygments_lexer": "ipython3",
   "version": "3.8.0"
  }
 },
 "nbformat": 4,
 "nbformat_minor": 5
}
