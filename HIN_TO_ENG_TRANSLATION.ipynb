{
 "cells": [
  {
   "cell_type": "markdown",
   "id": "63305bc1",
   "metadata": {},
   "source": [
    "# DATA"
   ]
  },
  {
   "cell_type": "code",
   "execution_count": 1,
   "id": "4a80f36d",
   "metadata": {},
   "outputs": [],
   "source": [
    "import numpy as np\n",
    "import re\n",
    "import string\n",
    "import unicodedata\n",
    "from unicodedata import normalize\n",
    "import sys\n",
    "import indicnlp"
   ]
  },
  {
   "cell_type": "code",
   "execution_count": 2,
   "id": "d33e1ca4",
   "metadata": {},
   "outputs": [],
   "source": [
    "def load_doc(filename):\n",
    "    file = open('ENG_HIN_SMALL_DATASET.txt' , mode ='rt' , encoding = 'utf-8')\n",
    "    text = file.read()\n",
    "    file.close()\n",
    "    return text"
   ]
  },
  {
   "cell_type": "code",
   "execution_count": 3,
   "id": "1a92a6a2",
   "metadata": {},
   "outputs": [],
   "source": [
    "def to_pairs(text):\n",
    "    lines = text.strip().split('\\n') #1d list of strings\n",
    "    eng_hin_pairs = [line.split('\\t') for line in lines] #list\n",
    "    eng_hin_pairs = np.delete(eng_hin_pairs , -1 , axis = 1)\n",
    "    eng_hin_pairs = eng_hin_pairs.tolist()\n",
    "    return eng_hin_pairs    "
   ]
  },
  {
   "cell_type": "code",
   "execution_count": 4,
   "id": "a7cf6fec",
   "metadata": {},
   "outputs": [],
   "source": [
    "doc = load_doc('ENG_HIN_SMALL_DATASET.txt')\n",
    "hin_eng_pairs = to_pairs(doc)\n",
    "english_sentences = []\n",
    "hindi_sentences = []\n",
    "for i in range(len(hin_eng_pairs)):\n",
    "    english_sentences.append(hin_eng_pairs[i][0])\n",
    "    hindi_sentences.append(hin_eng_pairs[i][1])"
   ]
  },
  {
   "cell_type": "markdown",
   "id": "8598fb62",
   "metadata": {},
   "source": [
    "### Cleaning english data"
   ]
  },
  {
   "cell_type": "code",
   "execution_count": 5,
   "id": "2d6235f1",
   "metadata": {},
   "outputs": [],
   "source": [
    "def clean_english_data(lines):\n",
    "    re_print = re.compile('[^%s]' %re.escape(string.printable))\n",
    "    table = str.maketrans('' , '' , string.punctuation)\n",
    "    clean_eng_lines = []\n",
    "    for line in lines:\n",
    "        line = normalize('NFD' , line).encode('ascii' , 'ignore')\n",
    "        line = line.decode('UTF-8')\n",
    "        line = line.split()\n",
    "        line = [word.lower() for word in line]\n",
    "        line = [word.translate(table) for word in line]\n",
    "        line = [re_print.sub('' , w) for w in line]\n",
    "        line = [word for word in line if word.isalpha()]\n",
    "        line = ' '.join(line)\n",
    "        clean_eng_lines.append(line)\n",
    "    return clean_eng_lines   "
   ]
  },
  {
   "cell_type": "code",
   "execution_count": 6,
   "id": "d80f3ea7",
   "metadata": {},
   "outputs": [
    {
     "name": "stdout",
     "output_type": "stream",
     "text": [
      "<class 'list'>\n",
      "['Wow!', 'Help!', 'Jump.', 'Jump.', 'Jump.', 'Hello!', 'Hello!', 'Cheers!', 'Cheers!', 'Got it?']\n",
      "['wow', 'help', 'jump', 'jump', 'jump', 'hello', 'hello', 'cheers', 'cheers', 'got it']\n"
     ]
    }
   ],
   "source": [
    "clean_eng_lines = clean_english_data(english_sentences)\n",
    "print(type(clean_eng_lines))\n",
    "print(english_sentences[0:10])\n",
    "print(clean_eng_lines[0:10])"
   ]
  },
  {
   "cell_type": "markdown",
   "id": "296c25c9",
   "metadata": {},
   "source": [
    "### Clean hindi data"
   ]
  },
  {
   "cell_type": "markdown",
   "id": "1b62fcdf",
   "metadata": {},
   "source": [
    "###### SETTING UP PATHS FOR INDIC NLP"
   ]
  },
  {
   "cell_type": "code",
   "execution_count": 7,
   "id": "b4a05ebe",
   "metadata": {},
   "outputs": [],
   "source": [
    "INDIC_NLP_LIB_HOME=r\"C:\\Users\\sudha\\Desktop\\NMT_PROJECTS\\Language_Translation_Chat_Bot\\anoopkunchukuttan-indic_nlp_library-eccde81\"\n",
    "INDIC_NLP_RESOURCES=r\"C:\\Users\\sudha\\Desktop\\NMT_PROJECTS\\Language_Translation_Chat_Bot\\indic_nlp_resources-master\"\n",
    "sys.path.append(r'{}'.format(INDIC_NLP_LIB_HOME))\n",
    "from indicnlp import common\n",
    "common.set_resources_path(INDIC_NLP_RESOURCES)\n",
    "from indicnlp import loader\n",
    "loader.load()\n",
    "from indicnlp.normalize.indic_normalize import IndicNormalizerFactory\n",
    "from indicnlp.tokenize import indic_tokenize"
   ]
  },
  {
   "cell_type": "code",
   "execution_count": 8,
   "id": "0aa7ebd8",
   "metadata": {},
   "outputs": [],
   "source": [
    "def clean_text(line):\n",
    "    text = line\n",
    "    text = text.replace(u',' ,'')\n",
    "    text = text.replace(u'\"' ,'')\n",
    "    text = text.replace(u'(' ,'')\n",
    "    text = text.replace(u')' ,'')\n",
    "    text = text.replace(u'\"' ,'')\n",
    "    text = text.replace(u':' ,'')\n",
    "    text = text.replace(u\"'\" ,'')\n",
    "    text = text.replace(u\"'\" ,'')\n",
    "    text=text.replace(u\"‘‘\",'')\n",
    "    text=text.replace(u\"’’\",'')\n",
    "    text=text.replace(u\"''\",'')\n",
    "    text=text.replace(u\".\",'')\n",
    "    text=text.replace(u\"-\",'')\n",
    "    text=text.replace(u\"।\",'')\n",
    "    text=text.replace(u\"?\",'')\n",
    "    text=text.replace(u\"\\\\\",'')\n",
    "    text=text.replace(u\"_\",'')\n",
    "    text = re.sub('[a-zA-Z]' , '' , text)\n",
    "    text = re.sub('[0-9+\\-*/.%&!]' , '' , text)\n",
    "    return text"
   ]
  },
  {
   "cell_type": "code",
   "execution_count": 9,
   "id": "4128f327",
   "metadata": {},
   "outputs": [],
   "source": [
    "def clean_hindi_data(lines):\n",
    "    clean_hin_lines = []\n",
    "    for line in lines:\n",
    "        remove_nuktas = False\n",
    "        factory = IndicNormalizerFactory()\n",
    "        normalizer = factory.get_normalizer(\"hi\" , remove_nuktas = False )\n",
    "        line = clean_text(line)\n",
    "        tokens = list()\n",
    "        for t in indic_tokenize.trivial_tokenize(line):\n",
    "            tokens.append(t)\n",
    "        line = tokens\n",
    "        line = [ word.lower() for word in line]\n",
    "        line = [word for word in line if not re.search(r'\\d', word)]\n",
    "        line = ' '.join(line)\n",
    "        clean_hin_lines.append(line)\n",
    "    return clean_hin_lines    "
   ]
  },
  {
   "cell_type": "code",
   "execution_count": 10,
   "id": "bbaa487a",
   "metadata": {},
   "outputs": [
    {
     "name": "stdout",
     "output_type": "stream",
     "text": [
      "इसे दोबारा पढ़ें।\n",
      "इसे दोबारा पढ़ें\n"
     ]
    }
   ],
   "source": [
    "clean_hindi_lines = clean_hindi_data(hindi_sentences)\n",
    "print(hindi_sentences[133])\n",
    "print(clean_hindi_lines[133])"
   ]
  },
  {
   "cell_type": "markdown",
   "id": "a17a2a0e",
   "metadata": {},
   "source": [
    "### Adding SOS and EOS ,  PREPARING INPUTS FOR ENCODER AND DECODER"
   ]
  },
  {
   "cell_type": "code",
   "execution_count": 11,
   "id": "ae5007f8",
   "metadata": {},
   "outputs": [],
   "source": [
    "num_sentences = 2200 #(about 80-20 ratio)"
   ]
  },
  {
   "cell_type": "code",
   "execution_count": 12,
   "id": "d4905d29",
   "metadata": {},
   "outputs": [],
   "source": [
    "input_sentences = []\n",
    "output_sentences = []\n",
    "output_sentences_inputs = []"
   ]
  },
  {
   "cell_type": "code",
   "execution_count": 13,
   "id": "1ad940c2",
   "metadata": {},
   "outputs": [],
   "source": [
    "#input sentences\n",
    "input_sentences = clean_eng_lines[0:num_sentences]\n",
    "\n",
    "#output sentences\n",
    "for line in clean_hindi_lines[0:num_sentences]:\n",
    "    line = line + ' <eos>'\n",
    "    output_sentences.append(line)\n",
    "\n",
    "#output sentence input\n",
    "\n",
    "for line in clean_hindi_lines[0:num_sentences]:\n",
    "    line = '<sos> ' + line\n",
    "    output_sentences_inputs.append(line)"
   ]
  },
  {
   "cell_type": "code",
   "execution_count": 14,
   "id": "cb96624e",
   "metadata": {},
   "outputs": [
    {
     "data": {
      "text/plain": [
       "['<sos> वाह',\n",
       " '<sos> बचाओ',\n",
       " '<sos> उछलो',\n",
       " '<sos> कूदो',\n",
       " '<sos> छलांग',\n",
       " '<sos> नमस्ते',\n",
       " '<sos> नमस्कार',\n",
       " '<sos> वाहवाह',\n",
       " '<sos> चियर्स',\n",
       " '<sos> समझे कि नहीं']"
      ]
     },
     "execution_count": 14,
     "metadata": {},
     "output_type": "execute_result"
    }
   ],
   "source": [
    "output_sentences_inputs[0:10]"
   ]
  },
  {
   "cell_type": "code",
   "execution_count": 15,
   "id": "11ed7862",
   "metadata": {},
   "outputs": [
    {
     "name": "stdout",
     "output_type": "stream",
     "text": [
      "num samples input: 2200\n",
      "num samples output: 2200\n",
      "num samples output input: 2200\n"
     ]
    }
   ],
   "source": [
    "print(\"num samples input:\", len(input_sentences))\n",
    "print(\"num samples output:\", len(output_sentences))\n",
    "print(\"num samples output input:\", len(output_sentences_inputs))"
   ]
  },
  {
   "cell_type": "code",
   "execution_count": null,
   "id": "66cb710d",
   "metadata": {},
   "outputs": [],
   "source": []
  }
 ],
 "metadata": {
  "kernelspec": {
   "display_name": "tf2.6.0",
   "language": "python",
   "name": "tf2.6.0"
  },
  "language_info": {
   "codemirror_mode": {
    "name": "ipython",
    "version": 3
   },
   "file_extension": ".py",
   "mimetype": "text/x-python",
   "name": "python",
   "nbconvert_exporter": "python",
   "pygments_lexer": "ipython3",
   "version": "3.8.0"
  }
 },
 "nbformat": 4,
 "nbformat_minor": 5
}
